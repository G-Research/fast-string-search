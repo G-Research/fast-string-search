{
 "cells": [
  {
   "cell_type": "code",
   "execution_count": 2,
   "metadata": {},
   "outputs": [],
   "source": [
    "%load_ext cython"
   ]
  },
  {
   "cell_type": "code",
   "execution_count": 11,
   "metadata": {},
   "outputs": [],
   "source": [
    "%%cython\n",
    "#cython: language_level=3\n",
    "\n",
    "cimport cython\n",
    "cimport numpy as np\n",
    "import numpy as np\n",
    "\n",
    "# Assuming string->string change, you can reuse this bit.\n",
    "ctypedef str (*string_transform)(str)\n",
    "\n",
    "@cython.boundscheck(False)  # Deactivate bounds checking\n",
    "@cython.wraparound(False)   # Deactivate negative indexing.\n",
    "cdef np.ndarray transform_memoryview(str[:] arr, string_transform f):\n",
    "    cdef str[:] result_view\n",
    "    cdef Py_ssize_t i\n",
    "    cdef str s\n",
    "    result = np.ndarray((len(arr),), dtype=object)\n",
    "    result_view = result\n",
    "    for i in range(len(arr)):\n",
    "        s = arr[i]\n",
    "        result_view[i] = f(s)\n",
    "    return result\n",
    "\n",
    "\n",
    "# And just make more of these. Notice this is a C function (cdef) with type annotations.\n",
    "cdef str _replace_then_upper(str s):\n",
    "    return s.replace(\"l\", \"\").upper()[1:-1]\n",
    "\n",
    "# This deliberately compiles the two cdef functions together inside Cython, in the hopes the compiler will combine them.\n",
    "def replace_then_upper(str[:] arr) -> np.ndarray:\n",
    "    return transform_memoryview(arr, _replace_then_upper)"
   ]
  },
  {
   "cell_type": "code",
   "execution_count": 8,
   "metadata": {},
   "outputs": [],
   "source": [
    "import pandas as pd\n",
    "\n",
    "STRINGS = [\"{} hello world how are you\".format(i) for i in range(1_000_000)]\n",
    "SERIES = pd.Series(STRINGS)"
   ]
  },
  {
   "cell_type": "code",
   "execution_count": 14,
   "metadata": {},
   "outputs": [
    {
     "name": "stdout",
     "output_type": "stream",
     "text": [
      "CPU times: user 285 ms, sys: 24.9 ms, total: 310 ms\n",
      "Wall time: 313 ms\n",
      "CPU times: user 446 ms, sys: 33.1 ms, total: 479 ms\n",
      "Wall time: 484 ms\n"
     ]
    },
    {
     "data": {
      "text/plain": [
       "True"
      ]
     },
     "execution_count": 14,
     "metadata": {},
     "output_type": "execute_result"
    }
   ],
   "source": [
    "%time s1 = pd.Series(replace_then_upper(SERIES.values))\n",
    "%time s2 = SERIES.apply(lambda s: s.replace(\"l\", \"\").upper()[1:-1])\n",
    "all(s1.values == s2.values)"
   ]
  }
 ],
 "metadata": {
  "kernelspec": {
   "display_name": "Python 3",
   "language": "python",
   "name": "python3"
  },
  "language_info": {
   "codemirror_mode": {
    "name": "ipython",
    "version": 3
   },
   "file_extension": ".py",
   "mimetype": "text/x-python",
   "name": "python",
   "nbconvert_exporter": "python",
   "pygments_lexer": "ipython3",
   "version": "3.8.6"
  }
 },
 "nbformat": 4,
 "nbformat_minor": 4
}
